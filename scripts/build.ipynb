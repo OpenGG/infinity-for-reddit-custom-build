#@title 1. Setup the environment
#@markdown 1. Create the API application [here](https://old.reddit.com/prefs/apps/) with the following settings: \
#@markdown - name: **`{YourRedditUsername}s-app`** (Replace {YourRedditUsername} with your actual username) \
#@markdown - type: **`Installed app`** \
#@markdown - redirect uri: **`http://127.0.0.1`** \
#@markdown Example: \
#@markdown ![](https://i.ibb.co/HVGrc8M/grafik.png) \
#@markdown The API token is then shown at the bottom of the page under the App name  ("{YourRedditUsername}s-app") and is a set of random characters (e.g. 6g5ZHEGEAnKHP3vewUFY3y) \
#@markdown Input the **API token** and **your username** below and go to 2. \
api_token = 'QB6nMx0Qb3EE5XBgZLoIcQ' #@param {type:"string"}
your_reddit_username = 'Frosty_Entertainer71' #@param {type:"string"}
user_agent = f"android:personal-app:0.0.1 (by /u/{your_reddit_username})"
redirect_uri = 'http://127.0.0.1'


#@markdown \
#@markdown 2. Choose where to download the source code from (Standard: GitHub Repository) \
#@markdown If GitHub Repository fails, run Code block 4. and choose [GitHub Archive]
version = '[GitHub Repository]' #@param ["[GitHub Repository]", "[GitHub Archive]"]

#@markdown \
#@markdown 3. Run the snippet on the top left. \
#@markdown This will set up the environment to compile the .apk from. \
#@markdown This can take up to 3 minutes.

import os, sys, re

if not api_token or not your_reddit_username:
  print("")
  print("\x1b[31m[IMPORTANT]")
  print("No settings have been set. Please input your token and username.\x1b[0m")
  sys.exit()
else:
  print("Following settings have been set:")
  print("- User-Agent:", user_agent)
  print("- API token:", api_token)
  print("- Source location:", version)



#2. Update the VM, install JDK 11, Android SDK and setup sdkmanager (Just click run, don't make any cli inputs)
!apt-get --quiet update
!apt-get --quiet install openjdk-17-jdk
!wget --quiet --output-document=android-sdk.zip https://dl.google.com/android/repository/commandlinetools-linux-7583922_latest.zip
!unzip -q android-sdk.zip -d android-sdk

os.environ["ANDROID_SDK_ROOT"] = "/content/android-sdk"
os.environ["JAVA_HOME"] = "/usr/lib/jvm/java-17-openjdk-amd64"
os.environ["PATH"] += ":/content/android-sdk/tools/bin:/content/android-sdk/platform-tools"

# setup sdkmanager
!yes | /content/android-sdk/cmdline-tools/bin/sdkmanager  --sdk_root=$ANDROID_SDK_ROOT "platforms;android-30" "build-tools;30.0.3"


#3. Download the source code
if version == "[GitHub Repository]":
  !git clone "https://github.com/Docile-Alligator/Infinity-For-Reddit"
else:
  !wget "https://github.com/Docile-Alligator/Infinity-For-Reddit/archive/a46e96f3e48a89f7b683fa7308c39f01c5b5ac21.zip"
  !unzip "a46e96f3e48a89f7b683fa7308c39f01c5b5ac21.zip"
  !mv -T Infinity-For-Reddit-* Infinity-For-Reddit
%cd Infinity-For-Reddit/




#4. Change the API token, user agent and Redirect URI to yours and add keystore (Just click run)
# Change API
apiutils_file = "/content/Infinity-For-Reddit/app/src/main/java/ml/docilealligator/infinityforreddit/utils/APIUtils.java"

apiutils_code = open(apiutils_file, "r", encoding="utf-8-sig").read()
apiutils_code = apiutils_code.replace("NOe2iKrPPzwscA", api_token)
apiutils_code = apiutils_code.replace("infinity://localhost", redirect_uri)
apiutils_code = re.sub(r'public static final String USER_AGENT = ".*?";', f'public static final String USER_AGENT = "{user_agent}";', apiutils_code)

with open(apiutils_file, "w", encoding="utf-8") as f:
  f.write(apiutils_code)


# Add Keystore
# Is this written any good? No? I know
!wget -P /content/ "https://github.com/TanukiAI/Infinity-keystore/raw/main/Infinity.jks"

build_gradle_file = "/content/Infinity-For-Reddit/app/build.gradle"
build_gradle_code = open(build_gradle_file, "r", encoding="utf-8-sig").read()
build_gradle_code = build_gradle_code.replace(r"""    buildTypes {""", r"""    signingConfigs {
        release {
            storeFile file("/content/Infinity.jks")
            storePassword "Infinity"
            keyAlias "Infinity"
            keyPassword "Infinity"
        }
    }
    buildTypes {""")
build_gradle_code = build_gradle_code.replace(r"""    buildTypes {
        release {""", r"""    buildTypes {
        release {
            signingConfig signingConfigs.release""")
build_gradle_code = build_gradle_code.replace(r"""    lint {
        disable 'MissingTranslation'
    }""", r"""    lint {
        disable 'MissingTranslation'
        baseline = file("lint-baseline.xml")
    }""")

with open(build_gradle_file, "w", encoding="utf-8") as f:
  f.write(build_gradle_code)
